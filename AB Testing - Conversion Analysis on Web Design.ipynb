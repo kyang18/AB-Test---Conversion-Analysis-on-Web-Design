{
 "cells": [
  {
   "cell_type": "markdown",
   "id": "3c0e1e14-96e1-44a3-aaa9-708e1727ea67",
   "metadata": {},
   "source": [
    "###  Conversion Analysis on Web Design"
   ]
  },
  {
   "cell_type": "markdown",
   "id": "4305ea1c-48ab-4663-a353-9e006cafb9b9",
   "metadata": {},
   "source": [
    "### 1. Introduction\n",
    "For this project, we will be analyzing the results of an A/B test run by an e-commerce website. The final goal is to help the company understand if they should implement the new page, keep the old page, or perhaps run the experiment longer to make their decision"
   ]
  },
  {
   "cell_type": "markdown",
   "id": "e5b1409d-d537-4243-85de-ff74b200c5d9",
   "metadata": {},
   "source": [
    "### 2. Import data & data cleaning"
   ]
  },
  {
   "cell_type": "code",
   "execution_count": 47,
   "id": "855f506c-bd39-4aa5-b883-de5b162257d8",
   "metadata": {},
   "outputs": [],
   "source": [
    "import pandas as pd\n",
    "import numpy as np\n",
    "import matplotlib.pyplot as plt\n",
    "\n",
    "%matplotlib inline"
   ]
  },
  {
   "cell_type": "code",
   "execution_count": 48,
   "id": "508051c2-9daf-4d51-b36c-b75f27dd8171",
   "metadata": {},
   "outputs": [
    {
     "data": {
      "text/html": [
       "<div>\n",
       "<style scoped>\n",
       "    .dataframe tbody tr th:only-of-type {\n",
       "        vertical-align: middle;\n",
       "    }\n",
       "\n",
       "    .dataframe tbody tr th {\n",
       "        vertical-align: top;\n",
       "    }\n",
       "\n",
       "    .dataframe thead th {\n",
       "        text-align: right;\n",
       "    }\n",
       "</style>\n",
       "<table border=\"1\" class=\"dataframe\">\n",
       "  <thead>\n",
       "    <tr style=\"text-align: right;\">\n",
       "      <th></th>\n",
       "      <th>user_id</th>\n",
       "      <th>timestamp</th>\n",
       "      <th>group</th>\n",
       "      <th>landing_page</th>\n",
       "      <th>converted</th>\n",
       "    </tr>\n",
       "  </thead>\n",
       "  <tbody>\n",
       "    <tr>\n",
       "      <th>0</th>\n",
       "      <td>851104</td>\n",
       "      <td>11:48.6</td>\n",
       "      <td>control</td>\n",
       "      <td>old_page</td>\n",
       "      <td>0</td>\n",
       "    </tr>\n",
       "    <tr>\n",
       "      <th>1</th>\n",
       "      <td>804228</td>\n",
       "      <td>01:45.2</td>\n",
       "      <td>control</td>\n",
       "      <td>old_page</td>\n",
       "      <td>0</td>\n",
       "    </tr>\n",
       "    <tr>\n",
       "      <th>2</th>\n",
       "      <td>661590</td>\n",
       "      <td>55:06.2</td>\n",
       "      <td>treatment</td>\n",
       "      <td>new_page</td>\n",
       "      <td>1</td>\n",
       "    </tr>\n",
       "    <tr>\n",
       "      <th>3</th>\n",
       "      <td>853541</td>\n",
       "      <td>28:03.1</td>\n",
       "      <td>treatment</td>\n",
       "      <td>new_page</td>\n",
       "      <td>1</td>\n",
       "    </tr>\n",
       "    <tr>\n",
       "      <th>4</th>\n",
       "      <td>864975</td>\n",
       "      <td>52:26.2</td>\n",
       "      <td>control</td>\n",
       "      <td>old_page</td>\n",
       "      <td>1</td>\n",
       "    </tr>\n",
       "  </tbody>\n",
       "</table>\n",
       "</div>"
      ],
      "text/plain": [
       "   user_id timestamp      group landing_page  converted\n",
       "0   851104   11:48.6    control     old_page          0\n",
       "1   804228   01:45.2    control     old_page          0\n",
       "2   661590   55:06.2  treatment     new_page          1\n",
       "3   853541   28:03.1  treatment     new_page          1\n",
       "4   864975   52:26.2    control     old_page          1"
      ]
     },
     "execution_count": 48,
     "metadata": {},
     "output_type": "execute_result"
    }
   ],
   "source": [
    "df=pd.read_csv('sample ab_data.csv')\n",
    "df.head()"
   ]
  },
  {
   "cell_type": "code",
   "execution_count": 49,
   "id": "1d03bba8-4f8c-4f05-8dd4-3f45106cf160",
   "metadata": {},
   "outputs": [
    {
     "name": "stdout",
     "output_type": "stream",
     "text": [
      "<class 'pandas.core.frame.DataFrame'>\n",
      "RangeIndex: 294478 entries, 0 to 294477\n",
      "Data columns (total 5 columns):\n",
      " #   Column        Non-Null Count   Dtype \n",
      "---  ------        --------------   ----- \n",
      " 0   user_id       294478 non-null  int64 \n",
      " 1   timestamp     294478 non-null  object\n",
      " 2   group         294478 non-null  object\n",
      " 3   landing_page  294478 non-null  object\n",
      " 4   converted     294478 non-null  int64 \n",
      "dtypes: int64(2), object(3)\n",
      "memory usage: 11.2+ MB\n"
     ]
    }
   ],
   "source": [
    "# Get an overview of the dataset\n",
    "df.info()"
   ]
  },
  {
   "cell_type": "code",
   "execution_count": 50,
   "id": "6268bec4-e041-4202-94e3-fc1039b3f431",
   "metadata": {},
   "outputs": [
    {
     "data": {
      "text/plain": [
       "user_id         0\n",
       "timestamp       0\n",
       "group           0\n",
       "landing_page    0\n",
       "converted       0\n",
       "dtype: int64"
      ]
     },
     "execution_count": 50,
     "metadata": {},
     "output_type": "execute_result"
    }
   ],
   "source": [
    "#missing values\n",
    "df.isna().sum()"
   ]
  },
  {
   "cell_type": "markdown",
   "id": "8873ab89-2103-49ec-b56c-5fe97a89d136",
   "metadata": {},
   "source": [
    "### EDA"
   ]
  },
  {
   "cell_type": "code",
   "execution_count": 51,
   "id": "0e5e4887-7766-4eb5-9835-dd219ba6479d",
   "metadata": {},
   "outputs": [],
   "source": [
    "# Function to parse the timestamp\n",
    "def parse_timestamp(ts):\n",
    "    minutes, seconds_fraction = ts.split(':')\n",
    "    seconds, fraction = seconds_fraction.split('.')\n",
    "    # Convert to a 'timedelta' object\n",
    "    return pd.to_timedelta(f'{int(minutes)%60} minutes {int(seconds)%60} seconds {int(fraction)} milliseconds')\n"
   ]
  },
  {
   "cell_type": "code",
   "execution_count": 52,
   "id": "325836c4-bf24-489d-8dc8-286d70ae751d",
   "metadata": {},
   "outputs": [],
   "source": [
    "# Apply the function to the timestamp column\n",
    "df['timestamp'] = df['timestamp'].apply(parse_timestamp)\n"
   ]
  },
  {
   "cell_type": "code",
   "execution_count": 53,
   "id": "407cc914-d8cd-4b55-9a96-545e17d60374",
   "metadata": {},
   "outputs": [],
   "source": [
    "# Group by the time and calculate conversion rate for each group\n",
    "df['minute'] = df['timestamp'].dt.components.minutes\n",
    "conversion_rates = df.groupby(['minute', 'group']).agg({'converted': 'mean'}).reset_index()\n"
   ]
  },
  {
   "cell_type": "code",
   "execution_count": 54,
   "id": "9072eace-01da-4cd7-8029-2720dbb00747",
   "metadata": {},
   "outputs": [],
   "source": [
    "# Pivot the data to have minutes on the index and groups as columns\n",
    "pivot_df = conversion_rates.pivot(index='minute', columns='group', values='converted')\n"
   ]
  },
  {
   "cell_type": "code",
   "execution_count": 55,
   "id": "0e2eff16-d87c-43af-bb3e-ddf518ade960",
   "metadata": {},
   "outputs": [
    {
     "data": {
      "image/png": "[encoded data removed]",
      "text/plain": [
       "<Figure size 1200x600 with 1 Axes>"
      ]
     },
     "metadata": {},
     "output_type": "display_data"
    }
   ],
   "source": [
    "# Plotting\n",
    "plt.figure(figsize=(12, 6))\n",
    "plt.plot(pivot_df.index, pivot_df['control'], label='Control Group', color='blue')\n",
    "plt.plot(pivot_df.index, pivot_df['treatment'], label='Treatment Group', color='orange')\n",
    "\n",
    "plt.title('Conversion Rate by Minute')\n",
    "plt.xlabel('Minute')\n",
    "plt.ylabel('Conversion Rate')\n",
    "plt.legend()\n",
    "plt.grid(True)\n",
    "plt.show()"
   ]
  },
  {
   "cell_type": "code",
   "execution_count": null,
   "id": "cf954e3e-748f-46ea-b20b-54846ddcf315",
   "metadata": {},
   "outputs": [],
   "source": [
    "### Check if group aligns with landing_page"
   ]
  },
  {
   "cell_type": "code",
   "execution_count": 19,
   "id": "a43664b4-8f47-479a-928c-4399af35cdb2",
   "metadata": {},
   "outputs": [
    {
     "data": {
      "text/plain": [
       "1965"
      ]
     },
     "execution_count": 19,
     "metadata": {},
     "output_type": "execute_result"
    }
   ],
   "source": [
    "((df.group=='treatment') & (df.landing_page=='old_page')).sum()\n"
   ]
  },
  {
   "cell_type": "code",
   "execution_count": 20,
   "id": "dfe8d75e-0099-4c1e-86d0-4f84d8dc04f5",
   "metadata": {},
   "outputs": [
    {
     "data": {
      "text/plain": [
       "1928"
      ]
     },
     "execution_count": 20,
     "metadata": {},
     "output_type": "execute_result"
    }
   ],
   "source": [
    "((df.group=='control') & (df.landing_page=='new_page')).sum()"
   ]
  },
  {
   "cell_type": "code",
   "execution_count": 21,
   "id": "bb49a86a-95c8-41d4-98c2-665aa5639c09",
   "metadata": {},
   "outputs": [],
   "source": [
    "df['misaligned']=((df.group=='treatment') & (df.landing_page=='old_page')) | ((df.group=='control') & (df.landing_page=='new_page'))\n",
    "df = df[-df['misaligned']]"
   ]
  },
  {
   "cell_type": "code",
   "execution_count": 22,
   "id": "2ba6331a-449d-47a5-b779-30985530716a",
   "metadata": {},
   "outputs": [
    {
     "name": "stdout",
     "output_type": "stream",
     "text": [
      "<class 'pandas.core.frame.DataFrame'>\n",
      "Int64Index: 290585 entries, 0 to 294477\n",
      "Data columns (total 6 columns):\n",
      " #   Column        Non-Null Count   Dtype \n",
      "---  ------        --------------   ----- \n",
      " 0   user_id       290585 non-null  int64 \n",
      " 1   timestamp     290585 non-null  object\n",
      " 2   group         290585 non-null  object\n",
      " 3   landing_page  290585 non-null  object\n",
      " 4   converted     290585 non-null  int64 \n",
      " 5   misaligned    290585 non-null  bool  \n",
      "dtypes: bool(1), int64(2), object(3)\n",
      "memory usage: 13.6+ MB\n"
     ]
    }
   ],
   "source": [
    "df.info()"
   ]
  },
  {
   "cell_type": "code",
   "execution_count": 23,
   "id": "128351da-fdd0-4bae-aa01-49dcc06458d9",
   "metadata": {},
   "outputs": [
    {
     "data": {
      "text/plain": [
       "290584"
      ]
     },
     "execution_count": 23,
     "metadata": {},
     "output_type": "execute_result"
    }
   ],
   "source": [
    "df.user_id.nunique()"
   ]
  },
  {
   "cell_type": "code",
   "execution_count": 24,
   "id": "ca1cc16f-4d0d-49d7-81dd-706a10be1508",
   "metadata": {},
   "outputs": [
    {
     "data": {
      "text/plain": [
       "773192    2\n",
       "834487    1\n",
       "936923    1\n",
       "679687    1\n",
       "719014    1\n",
       "Name: user_id, dtype: int64"
      ]
     },
     "execution_count": 24,
     "metadata": {},
     "output_type": "execute_result"
    }
   ],
   "source": [
    "df['user_id'].value_counts().sort_values(ascending=False).head()"
   ]
  },
  {
   "cell_type": "code",
   "execution_count": 25,
   "id": "f42c45a1-6bfa-46ba-9c46-4cb45177c4ea",
   "metadata": {},
   "outputs": [
    {
     "data": {
      "text/plain": [
       "773192    2\n",
       "834487    1\n",
       "936923    1\n",
       "679687    1\n",
       "719014    1\n",
       "Name: user_id, dtype: int64"
      ]
     },
     "execution_count": 25,
     "metadata": {},
     "output_type": "execute_result"
    }
   ],
   "source": [
    "df['user_id'].value_counts().sort_values(ascending=False).head()"
   ]
  },
  {
   "cell_type": "code",
   "execution_count": 26,
   "id": "1ba31278-bde5-4931-9b5c-0a06e06991de",
   "metadata": {},
   "outputs": [
    {
     "data": {
      "text/html": [
       "<div>\n",
       "<style scoped>\n",
       "    .dataframe tbody tr th:only-of-type {\n",
       "        vertical-align: middle;\n",
       "    }\n",
       "\n",
       "    .dataframe tbody tr th {\n",
       "        vertical-align: top;\n",
       "    }\n",
       "\n",
       "    .dataframe thead th {\n",
       "        text-align: right;\n",
       "    }\n",
       "</style>\n",
       "<table border=\"1\" class=\"dataframe\">\n",
       "  <thead>\n",
       "    <tr style=\"text-align: right;\">\n",
       "      <th></th>\n",
       "      <th>user_id</th>\n",
       "      <th>timestamp</th>\n",
       "      <th>group</th>\n",
       "      <th>landing_page</th>\n",
       "      <th>converted</th>\n",
       "      <th>misaligned</th>\n",
       "    </tr>\n",
       "  </thead>\n",
       "  <tbody>\n",
       "    <tr>\n",
       "      <th>1899</th>\n",
       "      <td>773192</td>\n",
       "      <td>37:58.8</td>\n",
       "      <td>treatment</td>\n",
       "      <td>new_page</td>\n",
       "      <td>1</td>\n",
       "      <td>False</td>\n",
       "    </tr>\n",
       "    <tr>\n",
       "      <th>2893</th>\n",
       "      <td>773192</td>\n",
       "      <td>55:59.6</td>\n",
       "      <td>treatment</td>\n",
       "      <td>new_page</td>\n",
       "      <td>0</td>\n",
       "      <td>False</td>\n",
       "    </tr>\n",
       "  </tbody>\n",
       "</table>\n",
       "</div>"
      ],
      "text/plain": [
       "      user_id timestamp      group landing_page  converted  misaligned\n",
       "1899   773192   37:58.8  treatment     new_page          1       False\n",
       "2893   773192   55:59.6  treatment     new_page          0       False"
      ]
     },
     "execution_count": 26,
     "metadata": {},
     "output_type": "execute_result"
    }
   ],
   "source": [
    "# make assumption:\n",
    "## let's assume\n",
    "df[df['user_id']==773192]"
   ]
  },
  {
   "cell_type": "code",
   "execution_count": 27,
   "id": "778a8da4-1f4d-4421-9f34-bcf0ac3482c6",
   "metadata": {},
   "outputs": [],
   "source": [
    "df.drop(1899, axis = 0,inplace = True)"
   ]
  },
  {
   "cell_type": "code",
   "execution_count": 28,
   "id": "beae11be-42dd-4e55-abf5-45de1cd43729",
   "metadata": {},
   "outputs": [
    {
     "data": {
      "text/plain": [
       "851104    1\n",
       "834487    1\n",
       "936923    1\n",
       "679687    1\n",
       "719014    1\n",
       "Name: user_id, dtype: int64"
      ]
     },
     "execution_count": 28,
     "metadata": {},
     "output_type": "execute_result"
    }
   ],
   "source": [
    "df['user_id'].value_counts().sort_values(ascending=False).head()"
   ]
  },
  {
   "cell_type": "code",
   "execution_count": 33,
   "id": "65d46870-e199-4d4b-af5e-eac4ee288792",
   "metadata": {},
   "outputs": [
    {
     "data": {
      "text/html": [
       "<div>\n",
       "<style scoped>\n",
       "    .dataframe tbody tr th:only-of-type {\n",
       "        vertical-align: middle;\n",
       "    }\n",
       "\n",
       "    .dataframe tbody tr th {\n",
       "        vertical-align: top;\n",
       "    }\n",
       "\n",
       "    .dataframe thead th {\n",
       "        text-align: right;\n",
       "    }\n",
       "</style>\n",
       "<table border=\"1\" class=\"dataframe\">\n",
       "  <thead>\n",
       "    <tr style=\"text-align: right;\">\n",
       "      <th></th>\n",
       "      <th>user_id</th>\n",
       "    </tr>\n",
       "    <tr>\n",
       "      <th>group</th>\n",
       "      <th></th>\n",
       "    </tr>\n",
       "  </thead>\n",
       "  <tbody>\n",
       "    <tr>\n",
       "      <th>control</th>\n",
       "      <td>145274</td>\n",
       "    </tr>\n",
       "    <tr>\n",
       "      <th>treatment</th>\n",
       "      <td>145310</td>\n",
       "    </tr>\n",
       "  </tbody>\n",
       "</table>\n",
       "</div>"
      ],
      "text/plain": [
       "           user_id\n",
       "group             \n",
       "control     145274\n",
       "treatment   145310"
      ]
     },
     "execution_count": 33,
     "metadata": {},
     "output_type": "execute_result"
    }
   ],
   "source": [
    "# How many users in each group?\n",
    "df[['user_id','group']].groupby('group').count()"
   ]
  },
  {
   "cell_type": "code",
   "execution_count": 35,
   "id": "e330e845-09b9-4a69-a34d-354dca1ac471",
   "metadata": {},
   "outputs": [
    {
     "data": {
      "text/html": [
       "<div>\n",
       "<style scoped>\n",
       "    .dataframe tbody tr th:only-of-type {\n",
       "        vertical-align: middle;\n",
       "    }\n",
       "\n",
       "    .dataframe tbody tr th {\n",
       "        vertical-align: top;\n",
       "    }\n",
       "\n",
       "    .dataframe thead tr th {\n",
       "        text-align: left;\n",
       "    }\n",
       "\n",
       "    .dataframe thead tr:last-of-type th {\n",
       "        text-align: right;\n",
       "    }\n",
       "</style>\n",
       "<table border=\"1\" class=\"dataframe\">\n",
       "  <thead>\n",
       "    <tr>\n",
       "      <th></th>\n",
       "      <th>user_id</th>\n",
       "      <th colspan=\"2\" halign=\"left\">converted</th>\n",
       "    </tr>\n",
       "    <tr>\n",
       "      <th></th>\n",
       "      <th>count</th>\n",
       "      <th>mean</th>\n",
       "      <th>sum</th>\n",
       "    </tr>\n",
       "    <tr>\n",
       "      <th>group</th>\n",
       "      <th></th>\n",
       "      <th></th>\n",
       "      <th></th>\n",
       "    </tr>\n",
       "  </thead>\n",
       "  <tbody>\n",
       "    <tr>\n",
       "      <th>control</th>\n",
       "      <td>145274</td>\n",
       "      <td>0.120386</td>\n",
       "      <td>17489</td>\n",
       "    </tr>\n",
       "    <tr>\n",
       "      <th>treatment</th>\n",
       "      <td>145310</td>\n",
       "      <td>0.125353</td>\n",
       "      <td>18215</td>\n",
       "    </tr>\n",
       "  </tbody>\n",
       "</table>\n",
       "</div>"
      ],
      "text/plain": [
       "          user_id converted       \n",
       "            count      mean    sum\n",
       "group                             \n",
       "control    145274  0.120386  17489\n",
       "treatment  145310  0.125353  18215"
      ]
     },
     "execution_count": 35,
     "metadata": {},
     "output_type": "execute_result"
    }
   ],
   "source": [
    "# Conversion rate in each group\n",
    "df[['user_id', 'group', 'converted']].groupby('group').agg({\n",
    "    'user_id': 'count', \n",
    "    'converted': ['mean', 'sum']\n",
    "})\n"
   ]
  },
  {
   "cell_type": "markdown",
   "id": "6049198e-35b8-491c-9c78-47b33e3e2415",
   "metadata": {},
   "source": [
    "###  3. Analyze results"
   ]
  },
  {
   "cell_type": "markdown",
   "id": "28b65758-655c-4e4e-8346-cb669667571e",
   "metadata": {},
   "source": [
    "Let's assume that the new page does not have higher conversion rate than the old page at 5% Type I error. So the hypothesis woule be:\n",
    "\n",
    "null:  𝑝𝑛𝑒𝑤  -  𝑝𝑜𝑙𝑑  <=0\n",
    "\n",
    "alternative:  𝑝𝑛𝑒𝑤  -  𝑝𝑜𝑙𝑑  >0"
   ]
  },
  {
   "cell_type": "code",
   "execution_count": 36,
   "id": "d7c6913f-92d3-47f1-ba63-962dc282d2d4",
   "metadata": {},
   "outputs": [
    {
     "data": {
      "text/plain": [
       "(17489, 18215, 145274, 145310)"
      ]
     },
     "execution_count": 36,
     "metadata": {},
     "output_type": "execute_result"
    }
   ],
   "source": [
    "convert_old = df[df.group=='control'].converted.sum()\n",
    "convert_new = df[df.group=='treatment'].converted.sum()\n",
    "n_old = len(df[df.group=='control'].converted)\n",
    "n_new= len(df[df.group=='treatment'].converted)\n",
    "\n",
    "convert_old, convert_new, n_old, n_new"
   ]
  },
  {
   "cell_type": "code",
   "execution_count": 38,
   "id": "524db85e-a7f7-4eab-852e-e11f35bdbcec",
   "metadata": {},
   "outputs": [
    {
     "data": {
      "text/html": [
       "<div>\n",
       "<style scoped>\n",
       "    .dataframe tbody tr th:only-of-type {\n",
       "        vertical-align: middle;\n",
       "    }\n",
       "\n",
       "    .dataframe tbody tr th {\n",
       "        vertical-align: top;\n",
       "    }\n",
       "\n",
       "    .dataframe thead th {\n",
       "        text-align: right;\n",
       "    }\n",
       "</style>\n",
       "<table border=\"1\" class=\"dataframe\">\n",
       "  <thead>\n",
       "    <tr style=\"text-align: right;\">\n",
       "      <th></th>\n",
       "      <th>Views</th>\n",
       "      <th>Converts</th>\n",
       "      <th>Conversion %</th>\n",
       "    </tr>\n",
       "  </thead>\n",
       "  <tbody>\n",
       "    <tr>\n",
       "      <th>Control</th>\n",
       "      <td>145274</td>\n",
       "      <td>17489</td>\n",
       "      <td>12.0%</td>\n",
       "    </tr>\n",
       "    <tr>\n",
       "      <th>Test</th>\n",
       "      <td>145310</td>\n",
       "      <td>18215</td>\n",
       "      <td>12.5%</td>\n",
       "    </tr>\n",
       "  </tbody>\n",
       "</table>\n",
       "</div>"
      ],
      "text/plain": [
       "          Views  Converts Conversion %\n",
       "Control  145274     17489        12.0%\n",
       "Test     145310     18215        12.5%"
      ]
     },
     "execution_count": 38,
     "metadata": {},
     "output_type": "execute_result"
    }
   ],
   "source": [
    "conversion_dic = {'Views':{'Control':n_old,'Test':n_new},'Converts': {'Control':convert_old,'Test':convert_new}}\n",
    "conversion_table = pd.DataFrame(conversion_dic)\n",
    "conversion_table['Conversion %'] = conversion_table['Converts'] / conversion_table['Views']\n",
    "conversion_table['Conversion %'] = conversion_table['Conversion %'].apply(lambda x: str(np.round(x,3)*100)+'%')\n",
    "conversion_table"
   ]
  },
  {
   "cell_type": "markdown",
   "id": "d4bec5b5-3629-4fd1-b60b-c405a198582c",
   "metadata": {},
   "source": [
    "### 3.1 Z-test in our way"
   ]
  },
  {
   "cell_type": "code",
   "execution_count": 41,
   "id": "7f4ab433-2f47-46c2-827a-74f1368a9e2d",
   "metadata": {},
   "outputs": [],
   "source": [
    "def z_test(p1,p0,n1,n0):\n",
    "    delta = p1-p0\n",
    "    p = (p1*n1 + p0*n0) / (n1+n0)\n",
    "    return delta / np.sqrt(p*(1-p)*(1/n1 + 1/n0))"
   ]
  },
  {
   "cell_type": "code",
   "execution_count": 42,
   "id": "4f947ff3-2dac-4098-a666-42a38154fc4a",
   "metadata": {},
   "outputs": [],
   "source": [
    "p1 = convert_new / n_new\n",
    "p0 = convert_old / n_old\n",
    "n1 = n_new\n",
    "n0 = n_old"
   ]
  },
  {
   "cell_type": "code",
   "execution_count": 43,
   "id": "a239e8cf-cdfc-4822-9641-3a7ee16f9aaf",
   "metadata": {},
   "outputs": [
    {
     "data": {
      "text/plain": [
       "4.077481782861739"
      ]
     },
     "execution_count": 43,
     "metadata": {},
     "output_type": "execute_result"
    }
   ],
   "source": [
    "z_value = z_test(p1,p0,n1,n0)\n",
    "z_value"
   ]
  },
  {
   "cell_type": "code",
   "execution_count": 44,
   "id": "f17d8d60-6794-4d73-9c94-8e7fc104c10b",
   "metadata": {},
   "outputs": [
    {
     "data": {
      "text/plain": [
       "2.276304781123617e-05"
      ]
     },
     "execution_count": 44,
     "metadata": {},
     "output_type": "execute_result"
    }
   ],
   "source": [
    "from scipy.stats import norm\n",
    "p_value = 1- norm.cdf(z_value)\n",
    "\n",
    "p_value"
   ]
  },
  {
   "cell_type": "markdown",
   "id": "ea82a272-1f68-431b-b9f7-ab3fd047899c",
   "metadata": {},
   "source": [
    "p-value is less than 0.05, so we can reject null hypothesis and accept alternative hypothesis that\n",
    "<br>**$p_{new}$** - **$p_{old}$** >0, the new page has higher conversion rate than the old page"
   ]
  },
  {
   "cell_type": "markdown",
   "id": "8e9e6489-4dfb-40fb-bfeb-376ccb79d4bc",
   "metadata": {},
   "source": [
    "### 3.2 Z-test in Statsmodels"
   ]
  },
  {
   "cell_type": "code",
   "execution_count": 45,
   "id": "5d0d370b-0c89-4243-9498-048adf6d0d21",
   "metadata": {},
   "outputs": [],
   "source": [
    "import statsmodels.api as sm"
   ]
  },
  {
   "cell_type": "code",
   "execution_count": 46,
   "id": "64b2a0ad-2bb3-4a30-ba48-27bbf7dd24c9",
   "metadata": {},
   "outputs": [
    {
     "data": {
      "text/plain": [
       "(4.077481782861739, 2.276304781118429e-05)"
      ]
     },
     "execution_count": 46,
     "metadata": {},
     "output_type": "execute_result"
    }
   ],
   "source": [
    "z_score, p_value = sm.stats.proportions_ztest([convert_new, convert_old], [n_new, n_old], alternative='larger')\n",
    "z_score, p_value"
   ]
  },
  {
   "cell_type": "markdown",
   "id": "4f28327f-a2e5-4944-a69f-4daced8cbd59",
   "metadata": {},
   "source": [
    "p-value is less than 0.05, so we can reject null hypothesis and accept alternative hypothesis that\n",
    "<br>**$p_{new}$** - **$p_{old}$** >0, the new page has higher conversion rate than the old page"
   ]
  }
 ],
 "metadata": {
  "kernelspec": {
   "display_name": "Python 3 (ipykernel)",
   "language": "python",
   "name": "python3"
  },
  "language_info": {
   "codemirror_mode": {
    "name": "ipython",
    "version": 3
   },
   "file_extension": ".py",
   "mimetype": "text/x-python",
   "name": "python",
   "nbconvert_exporter": "python",
   "pygments_lexer": "ipython3",
   "version": "3.9.13"
  }
 },
 "nbformat": 4,
 "nbformat_minor": 5
}
